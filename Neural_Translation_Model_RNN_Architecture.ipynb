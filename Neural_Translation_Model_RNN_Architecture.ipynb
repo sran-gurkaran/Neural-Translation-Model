{
  "cells": [
    {
      "cell_type": "code",
      "execution_count": 154,
      "metadata": {
        "id": "UWLuhQGNvq9C"
      },
      "outputs": [],
      "source": [
        "import tensorflow as tf\n",
        "import tensorflow_hub as hub\n",
        "import unicodedata\n",
        "import re\n",
        "import numpy as np\n",
        "import json"
      ]
    },
    {
      "cell_type": "code",
      "execution_count": 155,
      "metadata": {
        "id": "8b-uxXejvq9E"
      },
      "outputs": [],
      "source": [
        "# loading the dataset containing pairs of English and German Sentences\n",
        "\n",
        "NUM_EXAMPLES = 16000\n",
        "data_examples = []\n",
        "with open('/content/deu.txt', 'r', encoding='utf8') as f:\n",
        "    for line in f.readlines():\n",
        "        if len(data_examples) < NUM_EXAMPLES:\n",
        "            data_examples.append(line)\n",
        "        else:\n",
        "            break"
      ]
    },
    {
      "cell_type": "code",
      "execution_count": 156,
      "metadata": {
        "id": "ubQ_nJmqvq9F"
      },
      "outputs": [],
      "source": [
        "# These functions preprocess English and German sentences\n",
        "\n",
        "def unicode_to_ascii(s):\n",
        "    return ''.join(c for c in unicodedata.normalize('NFD', s) if unicodedata.category(c) != 'Mn')\n",
        "\n",
        "def preprocess_sentence(sentence):\n",
        "    sentence = sentence.lower().strip()\n",
        "    sentence = re.sub(r\"ü\", 'ue', sentence)\n",
        "    sentence = re.sub(r\"ä\", 'ae', sentence)\n",
        "    sentence = re.sub(r\"ö\", 'oe', sentence)\n",
        "    sentence = re.sub(r'ß', 'ss', sentence)\n",
        "\n",
        "    sentence = unicode_to_ascii(sentence)\n",
        "    sentence = re.sub(r\"([?.!,])\", r\" \\1 \", sentence)\n",
        "    sentence = re.sub(r\"[^a-z?.!,']+\", \" \", sentence)\n",
        "    sentence = re.sub(r'[\" \"]+', \" \", sentence)\n",
        "\n",
        "    return sentence.strip()"
      ]
    },
    {
      "cell_type": "code",
      "execution_count": 157,
      "metadata": {
        "scrolled": true,
        "id": "XjQk90ghvq9G"
      },
      "outputs": [],
      "source": [
        "# Creating separate lists of English and German Sentences\n",
        "English_sentences=[(i.split(\"\\t\"))[0] for i in data_examples]\n",
        "German_sentences=[(i.split(\"\\t\"))[1] for i in data_examples]"
      ]
    },
    {
      "cell_type": "code",
      "execution_count": 158,
      "metadata": {
        "id": "sjADRosjvq9G"
      },
      "outputs": [],
      "source": [
        "# Preprocessing Sentences\n",
        "English_sentences_preprocessed=[preprocess_sentence(i) for i in English_sentences]\n",
        "German_sentences_preprocessed=[preprocess_sentence(i) for i in German_sentences]\n",
        "German_sentences_preprocessed=[\"<start>\"+\" \"+ preprocess_sentence(i) +\" \"+ \"<end>\" for i in German_sentences_preprocessed]"
      ]
    },
    {
      "cell_type": "code",
      "execution_count": 159,
      "metadata": {
        "id": "gv-ChjnCvq9G"
      },
      "outputs": [],
      "source": [
        "# Creating indexes by Tokenizer, on German Sentences Data\n",
        "\n",
        "from tensorflow.keras.preprocessing.text import Tokenizer\n",
        "tokenizer = Tokenizer(num_words=None,\n",
        "                      filters='',\n",
        "                      split=' ',\n",
        "                      char_level=False)\n",
        "\n",
        "tokenizer.fit_on_texts(German_sentences_preprocessed)\n",
        "tokenizer_config = tokenizer.get_config()\n",
        "\n",
        "index_word = json.loads(tokenizer_config['index_word'])\n",
        "word_index = json.loads(tokenizer_config['word_index'])"
      ]
    },
    {
      "cell_type": "code",
      "execution_count": 160,
      "metadata": {
        "id": "X_OpbanQvq9H"
      },
      "outputs": [],
      "source": [
        "# Creating tokens/ sequences from German Sentences\n",
        "german_seq = tokenizer.texts_to_sequences(German_sentences_preprocessed)\n",
        "german_seq=np.array(german_seq, dtype=object)"
      ]
    },
    {
      "cell_type": "code",
      "execution_count": 161,
      "metadata": {
        "colab": {
          "base_uri": "https://localhost:8080/"
        },
        "id": "Q0KutbTmvq9I",
        "outputId": "737b0ac2-821e-4be0-bb06-d09fbc305652"
      },
      "outputs": [
        {
          "output_type": "stream",
          "name": "stdout",
          "text": [
            "are you drinking ?--> <start> trinkst du ? <end> [1, 4508, 14, 7, 2]\n",
            "\n",
            "\n",
            "i can't deny it .--> <start> ich kann es nicht verleugnen . <end> [1, 4, 31, 10, 12, 3937, 3, 2]\n",
            "\n",
            "\n",
            "you're drunk .--> <start> du bist blau . <end> [1, 14, 33, 494, 3, 2]\n",
            "\n",
            "\n",
            "who built it ?--> <start> wer hat es erbaut ? <end> [1, 38, 17, 10, 2161, 7, 2]\n",
            "\n",
            "\n",
            "take a card .--> <start> nehmen sie eine karte ! <end> [1, 199, 9, 37, 510, 8, 2]\n",
            "\n",
            "\n"
          ]
        }
      ],
      "source": [
        "# Priniting Random English Sentences and their German Counterparts\n",
        "idxs=np.random.randint(0,16000,5)\n",
        "eng=np.array(English_sentences_preprocessed)[idxs]\n",
        "ger=np.array(German_sentences_preprocessed)[idxs]\n",
        "german_seq_=german_seq[idxs]\n",
        "\n",
        "for i in range(5):\n",
        "    print(eng[i]+ '-->', ger[i], german_seq_[i])\n",
        "    print('\\n')\n"
      ]
    },
    {
      "cell_type": "code",
      "execution_count": 162,
      "metadata": {
        "colab": {
          "base_uri": "https://localhost:8080/"
        },
        "id": "-iEZ6F2Tvq9J",
        "outputId": "1dc776ac-9184-4fbc-a4f9-acf8902bc28e"
      },
      "outputs": [
        {
          "output_type": "execute_result",
          "data": {
            "text/plain": [
              "array([[   1,  360,    8, ...,    0,    0,    0],\n",
              "       [   1, 2667,  575, ...,    0,    0,    0],\n",
              "       [   1, 1197,    8, ...,    0,    0,    0],\n",
              "       ...,\n",
              "       [   1,   11,    6, ...,    0,    0,    0],\n",
              "       [   1,   11,    6, ...,    0,    0,    0],\n",
              "       [   1,   60, 2414, ...,    0,    0,    0]], dtype=int32)"
            ]
          },
          "metadata": {},
          "execution_count": 162
        }
      ],
      "source": [
        "# Padding German Sequences\n",
        "from tensorflow.keras.preprocessing.sequence import pad_sequences\n",
        "padded_german_seq=pad_sequences(german_seq, maxlen=None,padding='post')\n",
        "padded_german_seq"
      ]
    },
    {
      "cell_type": "code",
      "execution_count": 163,
      "metadata": {
        "colab": {
          "base_uri": "https://localhost:8080/"
        },
        "id": "iZOC7ScDvq9J",
        "outputId": "9c54bd1e-095d-4ddb-cbb0-283018ffab3f"
      },
      "outputs": [
        {
          "output_type": "execute_result",
          "data": {
            "text/plain": [
              "(16000, 14)"
            ]
          },
          "metadata": {},
          "execution_count": 163
        }
      ],
      "source": [
        "padded_german_seq.shape"
      ]
    },
    {
      "cell_type": "code",
      "execution_count": 164,
      "metadata": {
        "id": "Y4Fy4QGovq9K"
      },
      "outputs": [],
      "source": [
        "# Load embedding module from Tensorflow Hub\n",
        "\n",
        "embedding_layer = hub.KerasLayer(\"https://tfhub.dev/google/tf2-preview/nnlm-en-dim128-with-normalization/1\",\n",
        "                                 output_shape=[128], input_shape=[], dtype=tf.string)"
      ]
    },
    {
      "cell_type": "code",
      "execution_count": 165,
      "metadata": {
        "id": "5D82XQnWvq9K"
      },
      "outputs": [],
      "source": [
        "from tensorflow.keras.models import load_model"
      ]
    },
    {
      "cell_type": "code",
      "execution_count": 166,
      "metadata": {
        "colab": {
          "base_uri": "https://localhost:8080/"
        },
        "id": "Y2Teme7Yvq9K",
        "outputId": "9f44ae48-cdf1-4649-ae81-b7ccfb4973c1"
      },
      "outputs": [
        {
          "output_type": "execute_result",
          "data": {
            "text/plain": [
              "TensorShape([7, 128])"
            ]
          },
          "metadata": {},
          "execution_count": 166
        }
      ],
      "source": [
        "# Test the layer\n",
        "\n",
        "embedding_layer(tf.constant([\"these\", \"aren't\", \"the\", \"droids\", \"you're\", \"looking\", \"for\"])).shape"
      ]
    },
    {
      "cell_type": "code",
      "execution_count": 167,
      "metadata": {
        "id": "luo2I9x9vq9K"
      },
      "outputs": [],
      "source": [
        "# Creating random split of training and Validation data\n",
        "from sklearn.model_selection import train_test_split\n",
        "X=np.array(English_sentences_preprocessed)\n",
        "y=padded_german_seq\n",
        "X_train, X_val, y_train, y_val = train_test_split(X, y, test_size=0.2, random_state=20)"
      ]
    },
    {
      "cell_type": "code",
      "execution_count": 168,
      "metadata": {
        "id": "XQAFF-_2vq9L"
      },
      "outputs": [],
      "source": [
        "# Creating Dataset Objects of Training and Validation Data\n",
        "train_dataset= tf.data.Dataset.from_tensor_slices((X_train,y_train))\n",
        "val_dataset= tf.data.Dataset.from_tensor_slices((X_val,y_val))"
      ]
    },
    {
      "cell_type": "code",
      "execution_count": 169,
      "metadata": {
        "id": "jwptEh7tvq9L"
      },
      "outputs": [],
      "source": [
        "# Defining the functions that will perform the required dataset processing\n",
        "\n",
        "def sen_split(Eng_Sen,Ger_Seq):\n",
        "    Eng_Sen_split=tf.strings.split(Eng_Sen,' ')\n",
        "    return Eng_Sen_split, Ger_Seq\n",
        "\n",
        "def word_embed(words,Ger_Seq):\n",
        "    word_embeddings=embedding_layer(words)\n",
        "    return word_embeddings, Ger_Seq\n",
        "\n",
        "def len_filter(word_embeddings,Ger_Seq):\n",
        "    return int(tf.shape(word_embeddings)[0])<=15\n",
        "\n",
        "def pad_seq(word_embeddings,Ger_Seq):\n",
        "\n",
        "    r=15-int(tf.shape(word_embeddings)[0])\n",
        "    paddings=[[r, 0],\n",
        "       [0, 0]]\n",
        "    word_embeddings=tf.pad(word_embeddings, paddings, mode='CONSTANT', constant_values=0.0, name=None)\n",
        "    return word_embeddings,Ger_Seq\n",
        "\n",
        "def prepare_dataset(Eng_Seq,Ger_Seq):\n",
        "\n",
        "    seq_add_padding=tf.concat([Ger_Seq,tf.constant([0],dtype=tf.int32)],axis=0)\n",
        "    Ger_Outputs_True=seq_add_padding[1:]\n",
        "\n",
        "    return ((Eng_Seq,Ger_Seq),Ger_Outputs_True)"
      ]
    },
    {
      "cell_type": "code",
      "execution_count": 170,
      "metadata": {
        "id": "XiajrUgDvq9L"
      },
      "outputs": [],
      "source": [
        "# Applying the functions defined above\n",
        "train_dataset=train_dataset.map(sen_split)\n",
        "val_dataset=val_dataset.map(sen_split)\n",
        "\n",
        "train_dataset=train_dataset.map(word_embed)\n",
        "val_dataset=val_dataset.map(word_embed)\n",
        "\n",
        "train_dataset=train_dataset.filter(len_filter)\n",
        "val_dataset=val_dataset.filter(len_filter)\n",
        "\n",
        "train_dataset=train_dataset.map(pad_seq)\n",
        "val_dataset=val_dataset.map(pad_seq)\n",
        "\n",
        "train_dataset=train_dataset.map(prepare_dataset)\n",
        "val_dataset=val_dataset.map(prepare_dataset)"
      ]
    },
    {
      "cell_type": "code",
      "execution_count": 171,
      "metadata": {
        "id": "mh8BwOQkvq9M"
      },
      "outputs": [],
      "source": [
        "# Batching the Dataset Objects\n",
        "train_dataset=train_dataset.batch(16)\n",
        "val_dataset=val_dataset.batch(16)"
      ]
    },
    {
      "cell_type": "code",
      "execution_count": 172,
      "metadata": {
        "colab": {
          "base_uri": "https://localhost:8080/"
        },
        "id": "sgLF9Dmyvq9M",
        "outputId": "72066c90-8cb5-414d-9661-74df394d48e8"
      },
      "outputs": [
        {
          "output_type": "stream",
          "name": "stdout",
          "text": [
            "((TensorSpec(shape=(None, None, 128), dtype=tf.float32, name=None), TensorSpec(shape=(None, 14), dtype=tf.int32, name=None)), TensorSpec(shape=(None, 14), dtype=tf.int32, name=None))\n",
            "((TensorSpec(shape=(None, None, 128), dtype=tf.float32, name=None), TensorSpec(shape=(None, 14), dtype=tf.int32, name=None)), TensorSpec(shape=(None, 14), dtype=tf.int32, name=None))\n"
          ]
        }
      ],
      "source": [
        "# Printing the element spec property of Datasets\n",
        "print(train_dataset.element_spec)\n",
        "print(val_dataset.element_spec)"
      ]
    },
    {
      "cell_type": "code",
      "execution_count": 173,
      "metadata": {
        "colab": {
          "base_uri": "https://localhost:8080/"
        },
        "id": "zm5BKI-gvq9M",
        "outputId": "903ba551-7b46-44d5-b4da-18ab7a9e85c5"
      },
      "outputs": [
        {
          "output_type": "stream",
          "name": "stdout",
          "text": [
            "(16, 15, 128)\n",
            "tf.Tensor([  10 2273 4207  525    3    2    0    0    0    0    0    0    0    0], shape=(14,), dtype=int32)\n"
          ]
        }
      ],
      "source": [
        "# Printing shape of English Data Example from Training Dataset\n",
        "for elem in train_dataset.take(1):\n",
        "    print(elem[0][0].shape)\n",
        "\n",
        "# Printing shape of German Data Example from Validation Dataset\n",
        "for elem in val_dataset.take(1):\n",
        "    print(elem[1][0])"
      ]
    },
    {
      "cell_type": "code",
      "execution_count": 174,
      "metadata": {
        "id": "pAuBV2vjvq9O"
      },
      "outputs": [],
      "source": [
        "from tensorflow.keras.layers import Layer"
      ]
    },
    {
      "cell_type": "code",
      "execution_count": 175,
      "metadata": {
        "id": "sUAnlE09vq9O"
      },
      "outputs": [],
      "source": [
        "# Building the custom layer that adds a learned embedded 'end' token to end of each sequence\n",
        "\n",
        "class layer_add_learn_embed(Layer):\n",
        "\n",
        "    def __init__(self):\n",
        "        super(layer_add_learn_embed, self).__init__()\n",
        "        self.var=tf.Variable(initial_value=tf.random.normal(shape=[1,1,128]), trainable=True)\n",
        "\n",
        "    def call(self, input_batch):\n",
        "        x=input_batch\n",
        "        x_=tf.tile(self.var,[tf.shape(input_batch)[0],1,1])\n",
        "\n",
        "        return tf.concat([x,x_],axis=1)"
      ]
    },
    {
      "cell_type": "code",
      "execution_count": 176,
      "metadata": {
        "colab": {
          "base_uri": "https://localhost:8080/"
        },
        "id": "FFN3XfgYvq9O",
        "outputId": "64f0b6ec-7f4e-4e0b-91ab-eb25241556e4"
      },
      "outputs": [
        {
          "output_type": "stream",
          "name": "stdout",
          "text": [
            "(16, 15, 128)\n"
          ]
        }
      ],
      "source": [
        "# Shape of English Data Batch Before Custom Layer\n",
        "for elem in train_dataset.take(1):\n",
        "    print((elem)[0][0].shape)"
      ]
    },
    {
      "cell_type": "code",
      "execution_count": 177,
      "metadata": {
        "id": "udVAlY0ivq9U"
      },
      "outputs": [],
      "source": [
        "# Creating an Instance of Custom Layer\n",
        "cust_layer=layer_add_learn_embed()"
      ]
    },
    {
      "cell_type": "code",
      "execution_count": 178,
      "metadata": {
        "colab": {
          "base_uri": "https://localhost:8080/"
        },
        "id": "cCVd3vgnvq9U",
        "outputId": "2f2e8f8c-25d6-40db-8bea-d2a206d0a254"
      },
      "outputs": [
        {
          "output_type": "stream",
          "name": "stdout",
          "text": [
            "(16, 16, 128)\n"
          ]
        }
      ],
      "source": [
        "# Shape of English Data Batch After Custom Layer\n",
        "for elem in train_dataset.take(1):\n",
        "    print((cust_layer(elem[0][0])).shape)"
      ]
    },
    {
      "cell_type": "code",
      "execution_count": 179,
      "metadata": {
        "id": "v4447ywCvq9U"
      },
      "outputs": [],
      "source": [
        "from tensorflow.keras.models import Model\n",
        "from tensorflow.keras.layers import Input"
      ]
    },
    {
      "cell_type": "code",
      "execution_count": 180,
      "metadata": {
        "scrolled": true,
        "id": "Spw1UrQ4vq9U"
      },
      "outputs": [],
      "source": [
        "# Building the encoder using the functional API\n",
        "\n",
        "inputs=Input(shape=(15,128))\n",
        "x=cust_layer(inputs)\n",
        "x=tf.keras.layers.Masking(mask_value=0.0)(x)\n",
        "_,hidden_state,cell_state=tf.keras.layers.LSTM(units=512, return_sequences=True, return_state=True)(x)\n",
        "encoder=Model(inputs=inputs,outputs=[hidden_state,cell_state])"
      ]
    },
    {
      "cell_type": "code",
      "execution_count": 181,
      "metadata": {
        "colab": {
          "base_uri": "https://localhost:8080/"
        },
        "id": "VwGr-4Bivq9V",
        "outputId": "c6285ae2-4b11-45c1-c94a-36d01601829e"
      },
      "outputs": [
        {
          "output_type": "stream",
          "name": "stdout",
          "text": [
            "Model: \"model_9\"\n",
            "_________________________________________________________________\n",
            " Layer (type)                Output Shape              Param #   \n",
            "=================================================================\n",
            " input_14 (InputLayer)       [(None, 15, 128)]         0         \n",
            "                                                                 \n",
            " layer_add_learn_embed_3 (l  (None, 16, 128)           128       \n",
            " ayer_add_learn_embed)                                           \n",
            "                                                                 \n",
            " masking_5 (Masking)         (None, 16, 128)           0         \n",
            "                                                                 \n",
            " lstm_9 (LSTM)               [(None, 16, 512),         1312768   \n",
            "                              (None, 512),                       \n",
            "                              (None, 512)]                       \n",
            "                                                                 \n",
            "=================================================================\n",
            "Total params: 1312896 (5.01 MB)\n",
            "Trainable params: 1312896 (5.01 MB)\n",
            "Non-trainable params: 0 (0.00 Byte)\n",
            "_________________________________________________________________\n"
          ]
        }
      ],
      "source": [
        "encoder.summary()"
      ]
    },
    {
      "cell_type": "code",
      "execution_count": 182,
      "metadata": {
        "id": "aaf9jUCWvq9W"
      },
      "outputs": [],
      "source": [
        "num_unique_tokens=len(list(word_index.items()))"
      ]
    },
    {
      "cell_type": "code",
      "execution_count": 183,
      "metadata": {
        "id": "Z3Ld2RYVvq9W"
      },
      "outputs": [],
      "source": [
        "# Building the Decoder Network using model sub-classing\n",
        "\n",
        "class Decoder(Model):\n",
        "\n",
        "    def __init__(self,num_unique_tokens):\n",
        "        super(Decoder,self).__init__()\n",
        "        self.embedding_layer=tf.keras.layers.Embedding(input_dim=num_unique_tokens,\n",
        "                                                       output_dim=128, mask_zero=True)\n",
        "        self.lstm=tf.keras.layers.LSTM(units=512, return_sequences=True, return_state=True)\n",
        "        self.dense=tf.keras.layers.Dense(num_unique_tokens,activation=None)\n",
        "\n",
        "    def call(self, inputs):\n",
        "        encoder_outputs,decoder_input=inputs\n",
        "\n",
        "        hidden_state=encoder_outputs[0]\n",
        "        cell_state=encoder_outputs[1]\n",
        "\n",
        "        x=self.embedding_layer(decoder_input)\n",
        "        if hidden_state is None:\n",
        "            if cell_state is None:\n",
        "                out_seq, dec_hidden_state, dec_cell_state=self.lstm(x)\n",
        "\n",
        "        else:\n",
        "            initial_state = [hidden_state, cell_state]\n",
        "            out_seq, dec_hidden_state, dec_cell_state=self.lstm(x, initial_state=initial_state)\n",
        "\n",
        "        x=self.dense(out_seq)\n",
        "\n",
        "        return x, dec_hidden_state, dec_cell_state"
      ]
    },
    {
      "cell_type": "code",
      "execution_count": 184,
      "metadata": {
        "id": "JKEd_My7vq9W"
      },
      "outputs": [],
      "source": [
        "# Creating an instance of Decoder Class\n",
        "decoder=Decoder(num_unique_tokens=num_unique_tokens)"
      ]
    },
    {
      "cell_type": "code",
      "execution_count": 185,
      "metadata": {
        "id": "X8EHWntCvq9W"
      },
      "outputs": [],
      "source": [
        "for elem in train_dataset.take(1):\n",
        "    batch_1_Eng=elem[0][0]\n",
        "    batch_1_Ger=elem[0][1]"
      ]
    },
    {
      "cell_type": "code",
      "execution_count": 186,
      "metadata": {
        "id": "oUed4z2Ivq9W"
      },
      "outputs": [],
      "source": [
        "# Calling encoder\n",
        "hidden_state_encoder, cell_state_encoder=encoder(batch_1_Eng)\n",
        "\n",
        "# Calling decoder\n",
        "output_seq,hidden_state_decoder, cell_state_decoder =decoder([encoder(batch_1_Eng),batch_1_Ger] )"
      ]
    },
    {
      "cell_type": "code",
      "execution_count": 187,
      "metadata": {
        "colab": {
          "base_uri": "https://localhost:8080/"
        },
        "id": "bdMAQbjcvq9X",
        "outputId": "b07efb15-fc42-47f9-f6b0-28a91aac0786"
      },
      "outputs": [
        {
          "output_type": "stream",
          "name": "stdout",
          "text": [
            "(16, 14, 4992)\n",
            "(16, 512)\n",
            "(16, 512)\n"
          ]
        }
      ],
      "source": [
        "print(output_seq.shape)\n",
        "print(hidden_state_decoder.shape)\n",
        "print(cell_state_decoder.shape)"
      ]
    },
    {
      "cell_type": "code",
      "execution_count": 188,
      "metadata": {
        "scrolled": true,
        "colab": {
          "base_uri": "https://localhost:8080/"
        },
        "id": "BM2AGZy1vq9X",
        "outputId": "42c92810-bd87-415c-eaf1-4f838975e466"
      },
      "outputs": [
        {
          "output_type": "stream",
          "name": "stdout",
          "text": [
            "Model: \"decoder_4\"\n",
            "_________________________________________________________________\n",
            " Layer (type)                Output Shape              Param #   \n",
            "=================================================================\n",
            " embedding_4 (Embedding)     multiple                  638976    \n",
            "                                                                 \n",
            " lstm_10 (LSTM)              multiple                  1312768   \n",
            "                                                                 \n",
            " dense_4 (Dense)             multiple                  2560896   \n",
            "                                                                 \n",
            "=================================================================\n",
            "Total params: 4512640 (17.21 MB)\n",
            "Trainable params: 4512640 (17.21 MB)\n",
            "Non-trainable params: 0 (0.00 Byte)\n",
            "_________________________________________________________________\n"
          ]
        }
      ],
      "source": [
        "decoder.summary()"
      ]
    },
    {
      "cell_type": "code",
      "execution_count": 189,
      "metadata": {
        "colab": {
          "base_uri": "https://localhost:8080/",
          "height": 312
        },
        "id": "ZOJ5SUssvq9Y",
        "outputId": "8335d724-834c-48b0-eb91-cbca7c5fd858"
      },
      "outputs": [
        {
          "output_type": "execute_result",
          "data": {
            "image/png": "[encoded data removed]",
            "text/plain": [
              "<IPython.core.display.Image object>"
            ]
          },
          "metadata": {},
          "execution_count": 189
        }
      ],
      "source": [
        "# Building a combined encoder-decoder model and routing the inputs from encoder to decoder\n",
        "\n",
        "inputs_1=Input(shape=(15,128))\n",
        "h=encoder(inputs_1)\n",
        "inputs_2=Input(shape=14)\n",
        "x=decoder([h,inputs_2])\n",
        "encoder_decoder=Model(inputs=[inputs_1,inputs_2],outputs=x[0])\n",
        "tf.keras.utils.plot_model(encoder_decoder, show_shapes=True)"
      ]
    },
    {
      "cell_type": "code",
      "source": [
        "'''\n",
        "Model can be trained by a custom training loop as well, as defined below,\n",
        "\n",
        "loss = tf.keras.losses.SparseCategoricalCrossentropy(from_logits=True)\n",
        "sparse_categorical_accuracy=tf.keras.metrics.SparseCategoricalAccuracy()\n",
        "\n",
        "# Defining function which generates inputs for German Data and True/ Expected Corresponding Outputs\n",
        "def Ger_inputs_and_outputs(batch_Ger):\n",
        "    batch_Ger_inputs=batch_Ger\n",
        "\n",
        "    for i in range(batch_Ger.shape[0]):\n",
        "        seq_add_padding=tf.concat([batch_Ger[i],tf.constant([0],dtype=tf.int32)],axis=0)\n",
        "        seq_out_true=seq_add_padding[1:]\n",
        "        seq_out_true=tf.expand_dims(seq_out_true,axis=0)\n",
        "\n",
        "        if i==0:\n",
        "            batch_Ger_outputs_true=seq_out_true\n",
        "        else:\n",
        "            batch_Ger_outputs_true=tf.concat([batch_Ger_outputs_true,seq_out_true],axis=0)\n",
        "\n",
        "    return batch_Ger_inputs, batch_Ger_outputs_true\n",
        "\n",
        "\n",
        "\n",
        "# Defining function which performs the forward and backward pass\n",
        "\n",
        "@tf.function\n",
        "def forward_and_backward_pass (batch_Eng,batch_Ger_inputs,batch_Ger_outputs_true):\n",
        "\n",
        "    with tf.GradientTape() as tape:\n",
        "        loss_value=loss(batch_Ger_outputs_true, encoder_decoder([batch_Eng,batch_Ger_inputs]))\n",
        "        acc=sparse_categorical_accuracy(batch_Ger_outputs_true,encoder_decoder([batch_Eng,batch_Ger_inputs]))\n",
        "    return loss_value, acc, tape.gradient(loss_value, encoder_decoder.trainable_variables)\n",
        "\n",
        "\n",
        "\n",
        "\n",
        "# Defining Custom Training Loop\n",
        "\n",
        "def train_neural_translation_model(encoder_decoder_model,num_epochs,\n",
        "                                   training_dataset,validation_dataset, validation_batches, optimizer_obj, grad_fn):\n",
        "\n",
        "    train_loss_results=[]\n",
        "    val_loss_results=[]\n",
        "    train_accuracy_results=[]\n",
        "    val_accuracy_results=[]\n",
        "\n",
        "    for epoch in range(num_epochs):\n",
        "\n",
        "        train_loss_batch_wise=[]\n",
        "        train_acc_batch_wise=[]\n",
        "\n",
        "        for x,y in training_dataset:\n",
        "            Ger_inputs,Ger_outputs_true=Ger_inputs_and_outputs(y)\n",
        "            train_loss,train_acc, grads= grad_fn(x,Ger_inputs,Ger_outputs_true)\n",
        "            train_loss_batch_wise.append(train_loss)\n",
        "            train_acc_batch_wise.append(train_acc)\n",
        "            optimizer.apply_gradients(zip(grads, (encoder_decoder_model.trainable_variables)))\n",
        "\n",
        "        epoch_training_loss=np.mean(train_loss_batch_wise)\n",
        "        epoch_training_acc=np.mean(train_acc_batch_wise)\n",
        "        train_loss_results.append(epoch_training_loss)\n",
        "        train_accuracy_results.append(epoch_training_acc)\n",
        "\n",
        "        val_loss_batch_wise=[]\n",
        "        val_acc_batch_wise=[]\n",
        "\n",
        "        for x,y in validation_dataset.take(validation_batches):\n",
        "          Ger_inputs,Ger_outputs_true=Ger_inputs_and_outputs(y)\n",
        "          pred_logits=encoder_decoder([x,Ger_inputs])\n",
        "          val_loss=loss(Ger_outputs_true,pred_logits )\n",
        "          val_loss_batch_wise.append(val_loss)\n",
        "          val_acc=sparse_categorical_accuracy(Ger_outputs_true,pred_logits)\n",
        "          val_acc_batch_wise.append(val_acc)\n",
        "\n",
        "        epoch_val_loss=np.mean(val_loss_batch_wise)\n",
        "        epoch_val_acc=np.mean(val_acc_batch_wise)\n",
        "        val_loss_results.append(epoch_val_loss)\n",
        "        val_accuracy_results.append(epoch_val_acc)\n",
        "\n",
        "\n",
        "        print('Epoch {:03d}: Training Loss {:.3f}: '\n",
        "        'Sparse_Categorical_Training_Accuracy {:.3f}: '\n",
        "        'Val_Loss {:.3f}:  Sparse_Categorical_Val_Accuracy {:.3f}'\n",
        "        ':'.format(epoch, epoch_training_loss,epoch_training_acc,epoch_val_loss,epoch_val_acc )  )\n",
        "\n",
        "    return train_loss_results,train_accuracy_results,val_loss_results,val_accuracy_results\n",
        "\n",
        "'''"
      ],
      "metadata": {
        "id": "qEbVCGpp9W3T"
      },
      "execution_count": null,
      "outputs": []
    },
    {
      "cell_type": "code",
      "source": [
        "from tensorflow.keras.callbacks import ModelCheckpoint\n",
        "from tensorflow.keras.callbacks import EarlyStopping\n",
        "from tensorflow.keras.callbacks import ReduceLROnPlateau"
      ],
      "metadata": {
        "id": "CZ6C5TfPzDum"
      },
      "execution_count": 191,
      "outputs": []
    },
    {
      "cell_type": "code",
      "source": [
        "# Creating an earlystopping callback object\n",
        "early_stopping=EarlyStopping(monitor='val_loss', patience=2 ,\n",
        "                             min_delta= 0.005 )\n",
        "\n",
        "# Creating Reduce Learning Rate on Plateau Object\n",
        "reduce_lr=ReduceLROnPlateau(monitor=\"loss\",factor=0.8, verbose=0, patience=2,min_delta=0.005)\n",
        "\n",
        "# Creating Model Checkpoint Callback Object which will save the model weights\n",
        "# Correspoding to best val loss\n",
        "checkpoint=ModelCheckpoint('my_model_weights',\n",
        "                           save_weights_only=True,\n",
        "                           save_best_only=True,\n",
        "                           monitor='val_loss')\n",
        "\n",
        "# Instantiating Optimizer Object\n",
        "\n",
        "optimizer = tf.keras.optimizers.Adam(learning_rate=0.0005)"
      ],
      "metadata": {
        "id": "14jxmVduzOYY"
      },
      "execution_count": 192,
      "outputs": []
    },
    {
      "cell_type": "code",
      "source": [
        "# Training the model on Training Data\n",
        "\n",
        "encoder_decoder.compile(optimizer=optimizer,loss=tf.keras.losses.SparseCategoricalCrossentropy(from_logits=True),metrics=['sparse_categorical_accuracy'])\n",
        "history=encoder_decoder.fit(train_dataset,epochs=16,validation_data=val_dataset,validation_steps=10,callbacks=[early_stopping, reduce_lr, checkpoint])"
      ],
      "metadata": {
        "colab": {
          "base_uri": "https://localhost:8080/"
        },
        "id": "_Cf2_Cqit2FD",
        "outputId": "eb40f087-db47-4cf6-b68c-587c30661c6f"
      },
      "execution_count": 193,
      "outputs": [
        {
          "output_type": "stream",
          "name": "stdout",
          "text": [
            "Epoch 1/16\n",
            "800/800 [==============================] - 116s 134ms/step - loss: 3.3064 - sparse_categorical_accuracy: 0.4926 - val_loss: 2.8189 - val_sparse_categorical_accuracy: 0.5653 - lr: 5.0000e-04\n",
            "Epoch 2/16\n",
            "800/800 [==============================] - 78s 97ms/step - loss: 2.4511 - sparse_categorical_accuracy: 0.5941 - val_loss: 2.6138 - val_sparse_categorical_accuracy: 0.5978 - lr: 5.0000e-04\n",
            "Epoch 3/16\n",
            "800/800 [==============================] - 58s 73ms/step - loss: 2.1132 - sparse_categorical_accuracy: 0.6253 - val_loss: 2.5026 - val_sparse_categorical_accuracy: 0.6219 - lr: 5.0000e-04\n",
            "Epoch 4/16\n",
            "800/800 [==============================] - 68s 85ms/step - loss: 1.8422 - sparse_categorical_accuracy: 0.6514 - val_loss: 2.4198 - val_sparse_categorical_accuracy: 0.6284 - lr: 5.0000e-04\n",
            "Epoch 5/16\n",
            "800/800 [==============================] - 71s 88ms/step - loss: 1.6165 - sparse_categorical_accuracy: 0.6733 - val_loss: 2.3530 - val_sparse_categorical_accuracy: 0.6413 - lr: 5.0000e-04\n",
            "Epoch 6/16\n",
            "800/800 [==============================] - 68s 85ms/step - loss: 1.4311 - sparse_categorical_accuracy: 0.6946 - val_loss: 2.3250 - val_sparse_categorical_accuracy: 0.6525 - lr: 5.0000e-04\n",
            "Epoch 7/16\n",
            "800/800 [==============================] - 63s 79ms/step - loss: 1.2718 - sparse_categorical_accuracy: 0.7139 - val_loss: 2.3036 - val_sparse_categorical_accuracy: 0.6673 - lr: 5.0000e-04\n",
            "Epoch 8/16\n",
            "800/800 [==============================] - 63s 79ms/step - loss: 1.1345 - sparse_categorical_accuracy: 0.7356 - val_loss: 2.3035 - val_sparse_categorical_accuracy: 0.6710 - lr: 5.0000e-04\n",
            "Epoch 9/16\n",
            "800/800 [==============================] - 59s 74ms/step - loss: 1.0139 - sparse_categorical_accuracy: 0.7567 - val_loss: 2.3162 - val_sparse_categorical_accuracy: 0.6728 - lr: 5.0000e-04\n"
          ]
        }
      ]
    },
    {
      "cell_type": "markdown",
      "metadata": {
        "id": "xFrwt19bvq9Z"
      },
      "source": [
        "## 7. Use the model to translate\n",
        "Now it's time to put your model into practice! You should run your translation for five randomly sampled English sentences from the dataset. For each sentence, the process is as follows:\n",
        "* Preprocess and embed the English sentence according to the model requirements.\n",
        "* Pass the embedded sentence through the encoder to get the encoder hidden and cell states.\n",
        "* Starting with the special  `\"<start>\"` token, use this token and the final encoder hidden and cell states to get the one-step prediction from the decoder, as well as the decoder’s updated hidden and cell states.\n",
        "* Create a loop to get the next step prediction and updated hidden and cell states from the decoder, using the most recent hidden and cell states. Terminate the loop when the `\"<end>\"` token is emitted, or when the sentence has reached a maximum length.\n",
        "* Decode the output token sequence into German text and print the English text and the model's German translation."
      ]
    },
    {
      "cell_type": "code",
      "source": [
        "idxs=np.random.randint(0,2000,5)\n",
        "eng_test=np.array(English_sentences_preprocessed)[idxs]\n",
        "ger_test=np.array(German_sentences_preprocessed)[idxs]\n",
        "german_seq_=german_seq[idxs]"
      ],
      "metadata": {
        "id": "sYVmDp4CUWiB"
      },
      "execution_count": 206,
      "outputs": []
    },
    {
      "cell_type": "code",
      "source": [
        "def pad_seq_eng_embed(word_embeddings):\n",
        "\n",
        "    r=15-int(tf.shape(word_embeddings)[0])\n",
        "    paddings=[[r, 0],\n",
        "       [0, 0]]\n",
        "    word_embeddings=tf.pad(word_embeddings, paddings, mode='CONSTANT', constant_values=0.0, name=None)\n",
        "    return word_embeddings"
      ],
      "metadata": {
        "id": "-tItxYG-tK1Y"
      },
      "execution_count": 207,
      "outputs": []
    },
    {
      "cell_type": "code",
      "source": [
        "def get_translation(eng_sen):\n",
        "\n",
        "  split_eng_sen=tf.strings.split(eng_sen,' ')\n",
        "  eng_embed=embedding_layer(split_eng_sen)\n",
        "  eng_embed=pad_seq_eng_embed(eng_embed)\n",
        "  eng_embed=tf.expand_dims(eng_embed,axis=0)\n",
        "  encoder_out=encoder_decoder.layers[1](eng_embed)\n",
        "\n",
        "  hidden_state, cell_state=encoder_out\n",
        "  input_token= tf.constant([[1]],dtype=tf.int32)\n",
        "\n",
        "  for i in range(14):\n",
        "    logits, upd_hidden_state, upd_cell_state=encoder_decoder.layers[3]( ([hidden_state, cell_state] ,input_token )  )\n",
        "    pred_token = tf.argmax(logits,axis=2)\n",
        "\n",
        "    if i==0:\n",
        "      pred_ger_tokens=pred_token\n",
        "    else:\n",
        "      pred_ger_tokens=tf.concat([pred_ger_tokens,pred_token], axis=0)\n",
        "\n",
        "    if int(tf.squeeze(pred_token))==2:\n",
        "      break\n",
        "\n",
        "    hidden_state, cell_state=upd_hidden_state, upd_cell_state\n",
        "    input_token=pred_token\n",
        "\n",
        "  return ' '.join(tokenizer.sequences_to_texts(pred_ger_tokens.numpy())[:-1])"
      ],
      "metadata": {
        "id": "FFVpXk1O2l8M"
      },
      "execution_count": 208,
      "outputs": []
    },
    {
      "cell_type": "code",
      "source": [
        "# Using the model to get translation\n",
        "\n",
        "for i in range(5):\n",
        "  print('Eng Sentence : ', eng_test[i])\n",
        "  print('Correct German Translation : ',ger_test[i] )\n",
        "  print('Translation by Model :',get_translation(eng_test[i]) )\n",
        "  print('\\n')"
      ],
      "metadata": {
        "colab": {
          "base_uri": "https://localhost:8080/"
        },
        "id": "mn2EAgti6hfb",
        "outputId": "1fbcb3b8-8c41-44b5-ef89-ccf38e13c17a"
      },
      "execution_count": 209,
      "outputs": [
        {
          "output_type": "stream",
          "name": "stdout",
          "text": [
            "Eng Sentence :  i love it !\n",
            "Correct German Translation :  <start> ich liebe es ! <end>\n",
            "Translation by Model : ich mag es .\n",
            "\n",
            "\n",
            "Eng Sentence :  time is up .\n",
            "Correct German Translation :  <start> die zeit ist um . <end>\n",
            "Translation by Model : die sommer ist um .\n",
            "\n",
            "\n",
            "Eng Sentence :  be discreet .\n",
            "Correct German Translation :  <start> seid diskret ! <end>\n",
            "Translation by Model : seid diskret !\n",
            "\n",
            "\n",
            "Eng Sentence :  i'm thin .\n",
            "Correct German Translation :  <start> ich bin duenn . <end>\n",
            "Translation by Model : ich bin verkatert .\n",
            "\n",
            "\n",
            "Eng Sentence :  i hate bugs .\n",
            "Correct German Translation :  <start> ich hasse insekten . <end>\n",
            "Translation by Model : ich hasse beerdigungen .\n",
            "\n",
            "\n"
          ]
        }
      ]
    }
  ],
  "metadata": {
    "kernelspec": {
      "display_name": "Python 3",
      "name": "python3"
    },
    "language_info": {
      "codemirror_mode": {
        "name": "ipython",
        "version": 3
      },
      "file_extension": ".py",
      "mimetype": "text/x-python",
      "name": "python",
      "nbconvert_exporter": "python",
      "pygments_lexer": "ipython3",
      "version": "3.7.1"
    },
    "colab": {
      "provenance": [],
      "gpuType": "A100"
    },
    "accelerator": "GPU"
  },
  "nbformat": 4,
  "nbformat_minor": 0
}